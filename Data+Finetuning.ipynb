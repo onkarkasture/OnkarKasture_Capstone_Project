{
 "cells": [
  {
   "cell_type": "code",
   "execution_count": null,
   "metadata": {
    "colab": {
     "base_uri": "https://localhost:8080/"
    },
    "executionInfo": {
     "elapsed": 21382,
     "status": "ok",
     "timestamp": 1655717365587,
     "user": {
      "displayName": "Vinitha vn",
      "userId": "16111265326165253327"
     },
     "user_tz": -330
    },
    "id": "NY2fKyJGDHYz",
    "outputId": "315128b4-8f8f-4843-9562-daa122a027a8"
   },
   "outputs": [],
   "source": [
    "!pip install --upgrade openai "
   ]
  },
  {
   "cell_type": "code",
   "execution_count": null,
   "metadata": {
    "colab": {
     "base_uri": "https://localhost:8080/"
    },
    "executionInfo": {
     "elapsed": 9389,
     "status": "ok",
     "timestamp": 1655717374969,
     "user": {
      "displayName": "Vinitha vn",
      "userId": "16111265326165253327"
     },
     "user_tz": -330
    },
    "id": "xLavyZTyN_5n",
    "outputId": "108112cd-ef54-4e39-a13f-9e16bec4f75e"
   },
   "outputs": [],
   "source": [
    "!pip install wandb "
   ]
  },
  {
   "cell_type": "code",
   "execution_count": null,
   "metadata": {
    "executionInfo": {
     "elapsed": 10,
     "status": "ok",
     "timestamp": 1655717374970,
     "user": {
      "displayName": "Vinitha vn",
      "userId": "16111265326165253327"
     },
     "user_tz": -330
    },
    "id": "OJH6uqGfDIZO"
   },
   "outputs": [],
   "source": [
    "import os\n",
    "import pandas as pd\n",
    "import openai "
   ]
  },
  {
   "cell_type": "code",
   "execution_count": null,
   "metadata": {
    "colab": {
     "base_uri": "https://localhost:8080/",
     "height": 424
    },
    "executionInfo": {
     "elapsed": 6576,
     "status": "ok",
     "timestamp": 1655717381538,
     "user": {
      "displayName": "Vinitha vn",
      "userId": "16111265326165253327"
     },
     "user_tz": -330
    },
    "id": "JrnDWcS0DpjK",
    "outputId": "407ca8d7-5d44-4210-c7fc-ea51b13083be"
   },
   "outputs": [],
   "source": [
    "data = pd.read_csv(\"cleaned_data.csv\")\n",
    "data"
   ]
  },
  {
   "cell_type": "markdown",
   "metadata": {
    "id": "hTNM0o5dXkfu"
   },
   "source": [
    "### Prepare the data"
   ]
  },
  {
   "cell_type": "code",
   "execution_count": null,
   "metadata": {
    "colab": {
     "base_uri": "https://localhost:8080/",
     "height": 363
    },
    "executionInfo": {
     "elapsed": 25,
     "status": "ok",
     "timestamp": 1655306490274,
     "user": {
      "displayName": "Vinitha vn",
      "userId": "16111265326165253327"
     },
     "user_tz": -330
    },
    "id": "99un_lXb_TzN",
    "outputId": "264b42a8-349e-4bc6-ea5a-d37418aff9b9"
   },
   "outputs": [],
   "source": [
    "data.head(10)"
   ]
  },
  {
   "cell_type": "code",
   "execution_count": null,
   "metadata": {
    "colab": {
     "base_uri": "https://localhost:8080/",
     "height": 424
    },
    "executionInfo": {
     "elapsed": 1883,
     "status": "ok",
     "timestamp": 1655306492140,
     "user": {
      "displayName": "Vinitha vn",
      "userId": "16111265326165253327"
     },
     "user_tz": -330
    },
    "id": "csapF6Az5ZYA",
    "outputId": "50ee03fa-9d3c-4889-d24d-2cf2ca49a632"
   },
   "outputs": [],
   "source": [
    "data.dropna(inplace = True) \n",
    "data = data.drop_duplicates()\n",
    "data"
   ]
  },
  {
   "cell_type": "code",
   "execution_count": null,
   "metadata": {
    "colab": {
     "base_uri": "https://localhost:8080/"
    },
    "executionInfo": {
     "elapsed": 1439,
     "status": "ok",
     "timestamp": 1655306493575,
     "user": {
      "displayName": "Vinitha vn",
      "userId": "16111265326165253327"
     },
     "user_tz": -330
    },
    "id": "zrdnkSloj458",
    "outputId": "0fe7c603-33da-4df6-af37-fd6a0ff8e851"
   },
   "outputs": [],
   "source": [
    "import nltk\n",
    "nltk.download('stopwords')\n",
    "from nltk.corpus import stopwords\n",
    "stpwrds = set(stopwords.words('english'))\n"
   ]
  },
  {
   "cell_type": "code",
   "execution_count": null,
   "metadata": {
    "id": "vJn_u1X3jvCS"
   },
   "outputs": [],
   "source": [
    "def clean_text(text):\n",
    "  new_text = [word for word in text.split(\" \") if word not in stpwrds]\n",
    "  return \" \".join(new_text)"
   ]
  },
  {
   "cell_type": "code",
   "execution_count": null,
   "metadata": {
    "id": "R2PJgJ2mY6F2"
   },
   "outputs": [],
   "source": [
    "import re"
   ]
  },
  {
   "cell_type": "code",
   "execution_count": null,
   "metadata": {
    "id": "8330pfNeVTpw"
   },
   "outputs": [],
   "source": [
    "open(\"data.json\", \"w\").close()\n",
    "import json\n",
    "test = []\n",
    "\n",
    "old_id = 0\n",
    "\n",
    "d= dict()\n",
    "i = 0\n",
    "with open(\"data.json\", 'a') as f:\n",
    "    while(i<=data.shape[0]):       \n",
    "      new_id = data.loc[i][\"ID\"] \n",
    "      st = \"{\\\"prompt\\\": \\\"\" \n",
    "      new_data = data[data[\"ID\"]==new_id]\n",
    "      prom = clean_text(new_data[\"question\"].values[0])\n",
    "      st = \"{\\\"prompt\\\": \\\"\" + prom + \"\\\\n\\\\n###\\\\n\" \n",
    "      for ids in range(new_data.shape[0]): \n",
    "        if ids == 0:\n",
    "          st+= \"\\\\nCustomer: \" + new_data.iloc[ids][\"question\"] +\"\\\\nAgent: \"\n",
    "          st+=\"\\\"\"\n",
    "          st+= \",\"+\"\\\"completion\\\"\"+\":\"+\"\\\" \" +new_data.iloc[ids][\"response\"]+\"\\\\n\\\"\"\n",
    "          st+=\"}\"\n",
    "          st+=\"\\n\"\n",
    "          f.write(st)\n",
    "        else: \n",
    "          st = \"{\\\"prompt\\\": \\\"\" + prom + \"\\\\n\\\\n###\\\\n\" \n",
    "          for sub_ids in range(ids+1):\n",
    "            if sub_ids==0:\n",
    "              st += \"\\\\nCustomer: \" + new_data.iloc[sub_ids][\"question\"] +\"\\\\nAgent: \"+new_data.iloc[sub_ids][\"response\"]+\"\\\\n\" \n",
    "            elif sub_ids!=ids:\n",
    "              st += \"Customer: \" + new_data.iloc[sub_ids][\"question\"] +\"\\\\nAgent: \"+new_data.iloc[sub_ids][\"response\"]+\"\\\\n\" \n",
    "            else:\n",
    "              st+= \"Customer: \" + new_data.iloc[ids][\"question\"] +\"\\\\nAgent: \"\n",
    "              st+=\"\\\"\"\n",
    "              st+= \",\"+\"\\\"completion\\\"\"+\":\"+\"\\\" \" +new_data.iloc[ids][\"response\"]+\"\\\\n\\\"\"\n",
    "              st+=\"}\"\n",
    "              st+=\"\\n\"\n",
    "              f.write(st)\n",
    "\n",
    "        i+=1 \n",
    "\n",
    "    "
   ]
  },
  {
   "cell_type": "code",
   "execution_count": null,
   "metadata": {
    "executionInfo": {
     "elapsed": 22,
     "status": "ok",
     "timestamp": 1655717381539,
     "user": {
      "displayName": "Vinitha vn",
      "userId": "16111265326165253327"
     },
     "user_tz": -330
    },
    "id": "QnWtR0daTGmz"
   },
   "outputs": [],
   "source": [
    "!export OPENAI_API_KEY=<OPENAI KEY>\n",
    "openai.api_key = <OPENAI KEY>"
   ]
  },
  {
   "cell_type": "code",
   "execution_count": null,
   "metadata": {
    "executionInfo": {
     "elapsed": 20,
     "status": "ok",
     "timestamp": 1655717381539,
     "user": {
      "displayName": "Vinitha vn",
      "userId": "16111265326165253327"
     },
     "user_tz": -330
    },
    "id": "zmprkDEhMAtb"
   },
   "outputs": [],
   "source": [
    "os.environ[\"OPENAI_API_KEY\"] = <OPENAI KEY>"
   ]
  },
  {
   "cell_type": "code",
   "execution_count": null,
   "metadata": {
    "colab": {
     "base_uri": "https://localhost:8080/"
    },
    "executionInfo": {
     "elapsed": 12700,
     "status": "ok",
     "timestamp": 1655306667013,
     "user": {
      "displayName": "Vinitha vn",
      "userId": "16111265326165253327"
     },
     "user_tz": -330
    },
    "id": "cSDx2L6-DLlw",
    "outputId": "ee9647b4-b53f-4884-cb74-6d6a3322e971"
   },
   "outputs": [],
   "source": [
    "!openai tools fine_tunes.prepare_data -f \"data.json\""
   ]
  },
  {
   "cell_type": "code",
   "execution_count": null,
   "metadata": {
    "colab": {
     "base_uri": "https://localhost:8080/"
    },
    "executionInfo": {
     "elapsed": 631046,
     "status": "ok",
     "timestamp": 1655307372179,
     "user": {
      "displayName": "Vinitha vn",
      "userId": "16111265326165253327"
     },
     "user_tz": -330
    },
    "id": "SmH9kL5HDf4a",
    "outputId": "5dc80161-2fc9-48d4-a518-00cb2e78358e"
   },
   "outputs": [],
   "source": [
    "!openai api fine_tunes.create -t \"data_prepared.jsonl\" -m \"ada\" "
   ]
  },
  {
   "cell_type": "code",
   "execution_count": null,
   "metadata": {
    "executionInfo": {
     "elapsed": 19,
     "status": "ok",
     "timestamp": 1655717381540,
     "user": {
      "displayName": "Vinitha vn",
      "userId": "16111265326165253327"
     },
     "user_tz": -330
    },
    "id": "BK1ILMafXPNs"
   },
   "outputs": [],
   "source": [
    "completion = openai.Completion()"
   ]
  },
  {
   "cell_type": "code",
   "execution_count": null,
   "metadata": {
    "colab": {
     "base_uri": "https://localhost:8080/"
    },
    "executionInfo": {
     "elapsed": 325,
     "status": "ok",
     "timestamp": 1655717472964,
     "user": {
      "displayName": "Vinitha vn",
      "userId": "16111265326165253327"
     },
     "user_tz": -330
    },
    "id": "g04A3oI3W8BB",
    "outputId": "e4f6d787-698a-4fb8-f4aa-36db9e03ab15"
   },
   "outputs": [],
   "source": [
    "question = \"can i preorder a playstation\"\n",
    "prom = f'\\nCustomer: {question}\\nAgent:' \n",
    "print(prom)\n",
    "# print(prom)\n",
    "response = completion.create( \n",
    "    model = <ID OF TRAINED MODEL>,\n",
    "    prompt = prom,stop = [\"\\nCustomer\"],temperature = 0.3,\n",
    "      top_p =1,best_of=1,\n",
    "      max_tokens=150\n",
    ")\n",
    "# print(response)\n",
    "print(response.choices[0].text.strip()) "
   ]
  }
 ],
 "metadata": {
  "colab": {
   "authorship_tag": "ABX9TyPItHY4N/uZ7J9mX4ZFpDzF",
   "collapsed_sections": [],
   "mount_file_id": "1cBZ-0WRA9zor6zXF8y3xox7PjQsXctpm",
   "name": "Data+Finetuning.ipynb",
   "provenance": []
  },
  "kernelspec": {
   "display_name": "Python 3",
   "language": "python",
   "name": "python3"
  },
  "language_info": {
   "codemirror_mode": {
    "name": "ipython",
    "version": 3
   },
   "file_extension": ".py",
   "mimetype": "text/x-python",
   "name": "python",
   "nbconvert_exporter": "python",
   "pygments_lexer": "ipython3",
   "version": "3.8.11"
  }
 },
 "nbformat": 4,
 "nbformat_minor": 1
}
