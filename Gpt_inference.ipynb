{
 "cells": [
  {
   "cell_type": "code",
   "execution_count": null,
   "metadata": {
    "colab": {
     "base_uri": "https://localhost:8080/"
    },
    "executionInfo": {
     "elapsed": 13411,
     "status": "ok",
     "timestamp": 1656669769780,
     "user": {
      "displayName": "Vinitha vn",
      "userId": "16111265326165253327"
     },
     "user_tz": -330
    },
    "id": "jy9jT5w6DGnx",
    "outputId": "a82f0bae-f52d-4e52-f742-bb02b8c42917"
   },
   "outputs": [],
   "source": [
    "!pip install openai "
   ]
  },
  {
   "cell_type": "code",
   "execution_count": null,
   "metadata": {
    "colab": {
     "base_uri": "https://localhost:8080/"
    },
    "executionInfo": {
     "elapsed": 5344,
     "status": "ok",
     "timestamp": 1656669775115,
     "user": {
      "displayName": "Vinitha vn",
      "userId": "16111265326165253327"
     },
     "user_tz": -330
    },
    "id": "Cb2iLRcXJKdP",
    "outputId": "6596c5b9-9ac0-4500-a4d0-5e2ae43766f7"
   },
   "outputs": [],
   "source": [
    "!pip install python-dotenv pyngrok"
   ]
  },
  {
   "cell_type": "code",
   "execution_count": null,
   "metadata": {
    "executionInfo": {
     "elapsed": 29,
     "status": "ok",
     "timestamp": 1656669775116,
     "user": {
      "displayName": "Vinitha vn",
      "userId": "16111265326165253327"
     },
     "user_tz": -330
    },
    "id": "UlvdyehvDXek"
   },
   "outputs": [],
   "source": [
    "import openai\n",
    "import os"
   ]
  },
  {
   "cell_type": "code",
   "execution_count": null,
   "metadata": {
    "executionInfo": {
     "elapsed": 27,
     "status": "ok",
     "timestamp": 1656669775117,
     "user": {
      "displayName": "Vinitha vn",
      "userId": "16111265326165253327"
     },
     "user_tz": -330
    },
    "id": "QnWtR0daTGmz"
   },
   "outputs": [],
   "source": [
    "!export OPENAI_API_KEY=<OPENAI KEY>\n",
    "openai.api_key = <OPENAI KEY>"
   ]
  },
  {
   "cell_type": "code",
   "execution_count": null,
   "metadata": {
    "executionInfo": {
     "elapsed": 23,
     "status": "ok",
     "timestamp": 1656669775118,
     "user": {
      "displayName": "Vinitha vn",
      "userId": "16111265326165253327"
     },
     "user_tz": -330
    },
    "id": "zmprkDEhMAtb"
   },
   "outputs": [],
   "source": [
    "os.environ[\"OPENAI_API_KEY\"] = <OPENAI KEY>"
   ]
  },
  {
   "cell_type": "code",
   "execution_count": null,
   "metadata": {
    "colab": {
     "base_uri": "https://localhost:8080/"
    },
    "executionInfo": {
     "elapsed": 21,
     "status": "ok",
     "timestamp": 1656669775118,
     "user": {
      "displayName": "Vinitha vn",
      "userId": "16111265326165253327"
     },
     "user_tz": -330
    },
    "id": "D1PaTPASDnxU",
    "outputId": "c940e196-b330-463c-c08f-6c402ddf4ba9"
   },
   "outputs": [],
   "source": [
    "#https://beta.openai.com/docs/guides/completion/introduction\n",
    "''''\n",
    "The completion variable holds the actual client to the engine. This is the object we will use to send queries.\n",
    "'''\n",
    "completion = openai.Completion()"
   ]
  },
  {
   "cell_type": "code",
   "execution_count": null,
   "metadata": {
    "executionInfo": {
     "elapsed": 15,
     "status": "ok",
     "timestamp": 1656669777271,
     "user": {
      "displayName": "Vinitha vn",
      "userId": "16111265326165253327"
     },
     "user_tz": -330
    },
    "id": "66AEGj0VDt_3"
   },
   "outputs": [],
   "source": [
    "#example\n",
    "start_chart_log = '''Human: Hello, who are you?\n",
    "AI: I am doing great. How can I help you today?\n",
    "'''"
   ]
  },
  {
   "cell_type": "code",
   "execution_count": null,
   "metadata": {
    "executionInfo": {
     "elapsed": 4,
     "status": "ok",
     "timestamp": 1656669778820,
     "user": {
      "displayName": "Vinitha vn",
      "userId": "16111265326165253327"
     },
     "user_tz": -330
    },
    "id": "BPkSFjjbEXOg"
   },
   "outputs": [],
   "source": [
    "def ask(question,chat_log = None):\n",
    "  if chat_log is None:\n",
    "    chat_log = start_chart_log\n",
    "  prompt = f'{chat_log}Human:{question}\\nAI:'\n",
    "  print(\"prompt\",prompt)\n",
    "  response = completion.create(\n",
    "      prompt = prompt,engine = \"davinci\",stop = [\"\\nHuman\"],temperature = 0.9,\n",
    "      top_p =1,best_of=1,\n",
    "      max_tokens=150\n",
    "  )\n",
    "  answer = response.choices[0].text.strip()\n",
    "  return answer"
   ]
  },
  {
   "cell_type": "code",
   "execution_count": null,
   "metadata": {
    "colab": {
     "base_uri": "https://localhost:8080/"
    },
    "executionInfo": {
     "elapsed": 595,
     "status": "ok",
     "timestamp": 1656669784391,
     "user": {
      "displayName": "Vinitha vn",
      "userId": "16111265326165253327"
     },
     "user_tz": -330
    },
    "id": "wb-t9Qj6JCOe",
    "outputId": "bafb634d-0b59-46c3-b3e2-c31b077ca638"
   },
   "outputs": [],
   "source": [
    "from dotenv import load_dotenv\n",
    "load_dotenv()"
   ]
  },
  {
   "cell_type": "code",
   "execution_count": null,
   "metadata": {
    "colab": {
     "base_uri": "https://localhost:8080/"
    },
    "executionInfo": {
     "elapsed": 2768,
     "status": "ok",
     "timestamp": 1656669833417,
     "user": {
      "displayName": "Vinitha vn",
      "userId": "16111265326165253327"
     },
     "user_tz": -330
    },
    "id": "-GuGKF_PHrCL",
    "outputId": "50052b5c-1987-45c8-d4a5-c2d8d86ff3d2"
   },
   "outputs": [],
   "source": [
    "print(ask('What do you know about Artificial intelligence?') )"
   ]
  },
  {
   "cell_type": "code",
   "execution_count": null,
   "metadata": {
    "id": "lPtbqAVfHy7U"
   },
   "outputs": [],
   "source": []
  }
 ],
 "metadata": {
  "colab": {
   "authorship_tag": "ABX9TyNfsaqZiEpzcFuDEgXrfuL6",
   "collapsed_sections": [],
   "mount_file_id": "1TITECeSFxjpE_jdJsLPiQsNfuqXH7JI1",
   "name": "Gpt_inference.ipynb",
   "provenance": []
  },
  "kernelspec": {
   "display_name": "Python 3",
   "language": "python",
   "name": "python3"
  },
  "language_info": {
   "codemirror_mode": {
    "name": "ipython",
    "version": 3
   },
   "file_extension": ".py",
   "mimetype": "text/x-python",
   "name": "python",
   "nbconvert_exporter": "python",
   "pygments_lexer": "ipython3",
   "version": "3.8.11"
  }
 },
 "nbformat": 4,
 "nbformat_minor": 1
}
